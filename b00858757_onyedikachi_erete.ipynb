{
 "cells": [
  {
   "cell_type": "code",
   "execution_count": 1,
   "metadata": {
    "colab": {
     "base_uri": "https://localhost:8080/"
    },
    "id": "kfnPMpN6r07r",
    "outputId": "30f7678f-0114-4583-8bd0-261adfceff37"
   },
   "outputs": [
    {
     "name": "stdout",
     "output_type": "stream",
     "text": [
      "Collecting pyspark\n",
      "  Downloading pyspark-3.2.0.tar.gz (281.3 MB)\n",
      "\u001b[K     |████████████████████████████████| 281.3 MB 44 kB/s \n",
      "\u001b[?25hCollecting py4j==0.10.9.2\n",
      "  Downloading py4j-0.10.9.2-py2.py3-none-any.whl (198 kB)\n",
      "\u001b[K     |████████████████████████████████| 198 kB 88.5 MB/s \n",
      "\u001b[?25hBuilding wheels for collected packages: pyspark\n",
      "  Building wheel for pyspark (setup.py) ... \u001b[?25l\u001b[?25hdone\n",
      "  Created wheel for pyspark: filename=pyspark-3.2.0-py2.py3-none-any.whl size=281805912 sha256=74b0210f39434d722faa8802be968e580a9d031669168340ea3308cf3c4829d8\n",
      "  Stored in directory: /root/.cache/pip/wheels/0b/de/d2/9be5d59d7331c6c2a7c1b6d1a4f463ce107332b1ecd4e80718\n",
      "Successfully built pyspark\n",
      "Installing collected packages: py4j, pyspark\n",
      "Successfully installed py4j-0.10.9.2 pyspark-3.2.0\n"
     ]
    }
   ],
   "source": [
    "!pip install pyspark"
   ]
  },
  {
   "cell_type": "code",
   "execution_count": 2,
   "metadata": {
    "colab": {
     "base_uri": "https://localhost:8080/"
    },
    "id": "MUFRX_zBMX3j",
    "outputId": "081bb86e-de8b-4aca-ea8d-caf7168a478f"
   },
   "outputs": [
    {
     "name": "stdout",
     "output_type": "stream",
     "text": [
      "Mounted at /content/drive/\n"
     ]
    }
   ],
   "source": [
    "from google.colab import drive\n",
    "drive.mount('/content/drive/')"
   ]
  },
  {
   "cell_type": "code",
   "execution_count": 3,
   "metadata": {
    "id": "y8lGRdikLD0W"
   },
   "outputs": [],
   "source": [
    "import pandas as pd\n",
    "import numpy as np\n",
    "import re\n",
    "import warnings\n",
    "from pyspark.sql.types import StringType\n",
    "from pyspark.sql.functions import col, udf, desc\n",
    "from pyspark.ml.evaluation import RegressionEvaluator\n",
    "from pyspark.ml.recommendation import ALS\n",
    "from pyspark.ml.tuning import TrainValidationSplit\n",
    "warnings.filterwarnings(\"ignore\", category=DeprecationWarning)\n",
    "warnings.simplefilter(\"ignore\")\n",
    "%matplotlib inline"
   ]
  },
  {
   "cell_type": "code",
   "execution_count": 4,
   "metadata": {
    "id": "hmr8ljpNGWy0"
   },
   "outputs": [],
   "source": [
    "import pyspark\n",
    "from pyspark import SparkContext, SparkConf\n",
    "from pyspark.sql import SparkSession, SQLContext\n",
    "from pyspark.sql.types import IntegerType"
   ]
  },
  {
   "cell_type": "code",
   "execution_count": 5,
   "metadata": {
    "id": "Dr2JTLIdIcGe"
   },
   "outputs": [],
   "source": [
    "conf = SparkConf().set(\"spark.ui.port\", \"4050\")\n",
    "\n",
    "\n",
    "# create the context\n",
    "sc = pyspark.SparkContext(conf=conf)\n",
    "spark = SparkSession.builder.getOrCreate()"
   ]
  },
  {
   "cell_type": "code",
   "execution_count": 6,
   "metadata": {
    "colab": {
     "base_uri": "https://localhost:8080/",
     "height": 218
    },
    "id": "46w01WZWLDJv",
    "outputId": "076212db-aa2a-44d2-dc70-6042c75cfef6"
   },
   "outputs": [
    {
     "data": {
      "text/html": [
       "\n",
       "            <div>\n",
       "                <p><b>SparkSession - in-memory</b></p>\n",
       "                \n",
       "        <div>\n",
       "            <p><b>SparkContext</b></p>\n",
       "\n",
       "            <p><a href=\"http://bab5c6a6f771:4050\">Spark UI</a></p>\n",
       "\n",
       "            <dl>\n",
       "              <dt>Version</dt>\n",
       "                <dd><code>v3.2.0</code></dd>\n",
       "              <dt>Master</dt>\n",
       "                <dd><code>local[*]</code></dd>\n",
       "              <dt>AppName</dt>\n",
       "                <dd><code>pyspark-shell</code></dd>\n",
       "            </dl>\n",
       "        </div>\n",
       "        \n",
       "            </div>\n",
       "        "
      ],
      "text/plain": [
       "<pyspark.sql.session.SparkSession at 0x7f1dc25c2e50>"
      ]
     },
     "execution_count": 6,
     "metadata": {},
     "output_type": "execute_result"
    }
   ],
   "source": [
    "spark"
   ]
  },
  {
   "cell_type": "code",
   "execution_count": 9,
   "metadata": {
    "id": "xWQAajzNLRU1"
   },
   "outputs": [],
   "source": [
    "anime = spark.read.csv(\"/content/drive/MyDrive/Project Rector/anime.csv\", header = True, inferSchema = True)\n",
    "rating = spark.read.csv(\"/content/drive/MyDrive/Project Rector/rating.csv\",  header = True, inferSchema = True) "
   ]
  },
  {
   "cell_type": "markdown",
   "metadata": {
    "id": "l3xgNAX5Oxi9"
   },
   "source": [
    "Q1. Identify and describe the number of columns in the two dataset files."
   ]
  },
  {
   "cell_type": "code",
   "execution_count": 10,
   "metadata": {
    "colab": {
     "base_uri": "https://localhost:8080/"
    },
    "id": "91BgVNePucXK",
    "outputId": "7cd5f78a-28d6-4cf4-ef20-a76cc1b0543b"
   },
   "outputs": [
    {
     "name": "stdout",
     "output_type": "stream",
     "text": [
      "root\n",
      " |-- anime_id: integer (nullable = true)\n",
      " |-- name: string (nullable = true)\n",
      " |-- genre: string (nullable = true)\n",
      " |-- type: string (nullable = true)\n",
      " |-- episodes: string (nullable = true)\n",
      " |-- rating: double (nullable = true)\n",
      " |-- members: integer (nullable = true)\n",
      "\n"
     ]
    }
   ],
   "source": [
    "anime.printSchema()"
   ]
  },
  {
   "cell_type": "code",
   "execution_count": 11,
   "metadata": {
    "colab": {
     "base_uri": "https://localhost:8080/"
    },
    "id": "1iOkuWo8O2sB",
    "outputId": "0c81681d-16c9-412c-d1b8-e7d547229db1"
   },
   "outputs": [
    {
     "name": "stdout",
     "output_type": "stream",
     "text": [
      "+-------+------------------+-----------------+------+-----+------------------+-----------------+-----------------+\n",
      "|summary|          anime_id|             name| genre| type|          episodes|           rating|          members|\n",
      "+-------+------------------+-----------------+------+-----+------------------+-----------------+-----------------+\n",
      "|  count|             12294|            12294| 12232|12269|             12294|            12064|            12294|\n",
      "|   mean|14058.221652838783|         166778.5|  null| null|12.382549774134182|6.473901690981445|18071.33886448674|\n",
      "| stddev|11455.294700988177|330891.6746051493|  null| null| 46.86535196440979|1.026746306898068|54820.67692490701|\n",
      "|    min|                 1|    &quot;0&quot;|Action|Movie|                 1|             1.67|                5|\n",
      "|    max|             34527|                ◯|  Yaoi|   TV|           Unknown|             10.0|          1013917|\n",
      "+-------+------------------+-----------------+------+-----+------------------+-----------------+-----------------+\n",
      "\n"
     ]
    }
   ],
   "source": [
    "anime.describe().show()"
   ]
  },
  {
   "cell_type": "code",
   "execution_count": 12,
   "metadata": {
    "colab": {
     "base_uri": "https://localhost:8080/"
    },
    "id": "tWIsM2msueFu",
    "outputId": "6ff4309d-e6f6-4518-efd1-5bf2033138a4",
    "scrolled": true
   },
   "outputs": [
    {
     "name": "stdout",
     "output_type": "stream",
     "text": [
      "root\n",
      " |-- user_id: integer (nullable = true)\n",
      " |-- anime_id: integer (nullable = true)\n",
      " |-- rating: integer (nullable = true)\n",
      "\n"
     ]
    }
   ],
   "source": [
    "rating.printSchema()"
   ]
  },
  {
   "cell_type": "code",
   "execution_count": 13,
   "metadata": {
    "colab": {
     "base_uri": "https://localhost:8080/"
    },
    "id": "Yc3zQX-lPDK9",
    "outputId": "3bd06de9-5dad-4c86-e15a-66972d1dcd0a"
   },
   "outputs": [
    {
     "name": "stdout",
     "output_type": "stream",
     "text": [
      "+-------+------------------+-----------------+------------------+\n",
      "|summary|           user_id|         anime_id|            rating|\n",
      "+-------+------------------+-----------------+------------------+\n",
      "|  count|           7813737|          7813737|           7813737|\n",
      "|   mean|36727.956744640884|8909.072104295294| 6.144029546937656|\n",
      "| stddev|20997.946118973723| 8883.94963588107|3.7278004201098067|\n",
      "|    min|                 1|                1|                -1|\n",
      "|    max|             73516|            34519|                10|\n",
      "+-------+------------------+-----------------+------------------+\n",
      "\n"
     ]
    }
   ],
   "source": [
    "rating.describe().show()"
   ]
  },
  {
   "cell_type": "markdown",
   "metadata": {
    "id": "gqCuczPaQe_h"
   },
   "source": [
    "Q2. Merge/Join/Combine the two datasets and identify the key common column that you would have performed?"
   ]
  },
  {
   "cell_type": "code",
   "execution_count": 14,
   "metadata": {
    "id": "TOMHCZPETTUe"
   },
   "outputs": [],
   "source": [
    "#From reading the docs I know that ratings with a value of -1 means a user has watched the movie but hasn’t rated it. I’m making the assumption this gives us no useful information and remove those records before merging\n",
    "ratings = rating.filter(rating['rating'] != -1)"
   ]
  },
  {
   "cell_type": "code",
   "execution_count": 15,
   "metadata": {
    "colab": {
     "base_uri": "https://localhost:8080/"
    },
    "id": "xlBDQq2QauCQ",
    "outputId": "f9ec1a79-22c5-419a-9b79-024a5fcf946e"
   },
   "outputs": [
    {
     "name": "stdout",
     "output_type": "stream",
     "text": [
      "+--------+--------------------+--------------------+-----+--------+------+-------+-------+-----------+\n",
      "|anime_id|         anime_title|               genre| type|episodes|rating|members|user_id|user_rating|\n",
      "+--------+--------------------+--------------------+-----+--------+------+-------+-------+-----------+\n",
      "|    8074|Highschool of the...|Action, Ecchi, Ho...|   TV|      12|  7.46| 535892|      1|         10|\n",
      "|   11617|     High School DxD|Comedy, Demons, E...|   TV|      12|   7.7| 398660|      1|         10|\n",
      "|   11757|    Sword Art Online|Action, Adventure...|   TV|      25|  7.83| 893100|      1|         10|\n",
      "|   15451| High School DxD New|Action, Comedy, D...|   TV|      12|  7.87| 266657|      1|         10|\n",
      "|   11771|    Kuroko no Basket|Comedy, School, S...|   TV|      25|  8.46| 338315|      2|         10|\n",
      "|      20|              Naruto|Action, Comedy, M...|   TV|     220|  7.81| 683297|      3|          8|\n",
      "|     154|         Shaman King|Action, Adventure...|   TV|      64|  7.83| 169517|      3|          6|\n",
      "|     170|           Slam Dunk|Comedy, Drama, Sc...|   TV|     101|  8.56|  82570|      3|          9|\n",
      "|     199|Sen to Chihiro no...|Adventure, Drama,...|Movie|       1|  8.93| 466254|      3|         10|\n",
      "|     225|      Dragon Ball GT|Action, Adventure...|   TV|      64|  6.72| 226625|      3|          9|\n",
      "|     341|Spiral: Suiri no ...|Drama, Mystery, S...|   TV|      25|  7.38|  36187|      3|          6|\n",
      "|     430|Fullmetal Alchemi...|Comedy, Drama, Fa...|Movie|       1|  7.74| 186465|      3|          7|\n",
      "|     527|             Pokemon|Action, Adventure...|   TV|     276|  7.43| 229157|      3|          7|\n",
      "|     552|   Digimon Adventure|Action, Adventure...|   TV|      54|  7.89| 182208|      3|          7|\n",
      "|     813|       Dragon Ball Z|Action, Adventure...|   TV|     291|  8.32| 375662|      3|         10|\n",
      "|    1119|Pokemon: Celebi T...|Adventure, Comedy...|Movie|       1|  7.05|  58359|      3|          7|\n",
      "|    1121|Pokemon Advanced ...|Adventure, Comedy...|Movie|       1|  6.93|  43444|      3|          7|\n",
      "|    1122|Pokemon Advanced ...|Action, Adventure...|Movie|       1|   7.1|  45203|      3|          7|\n",
      "|    1132|    Digimon Frontier|Action, Adventure...|   TV|      50|  7.25|  74929|      3|          8|\n",
      "|    1292|        Afro Samurai|Action, Adventure...|   TV|       5|  7.41| 135708|      3|          6|\n",
      "+--------+--------------------+--------------------+-----+--------+------+-------+-------+-----------+\n",
      "only showing top 20 rows\n",
      "\n"
     ]
    }
   ],
   "source": [
    "anime = anime.withColumnRenamed('name', 'anime_title')\n",
    "ratings = ratings.withColumnRenamed('rating', 'user_rating')\n",
    "anime_fulldata = anime.join(ratings, [\"anime_id\"], how = \"inner\")\n",
    "anime_fulldata.show()"
   ]
  },
  {
   "cell_type": "markdown",
   "metadata": {
    "id": "xvwqJNl0Xs0f"
   },
   "source": [
    ">*We got many symbols found in anime_title. Let’s remove those using the function below so we can get the title cleaned and neat.*"
   ]
  },
  {
   "cell_type": "code",
   "execution_count": 16,
   "metadata": {
    "id": "1PhkNU_4TydP"
   },
   "outputs": [],
   "source": [
    "def text_cleaning(text):\n",
    "    text = re.sub(r'&quot;', '', text)\n",
    "    text = re.sub(r'.hack//', '', text)\n",
    "    text = re.sub(r'&#039;', '', text)\n",
    "    text = re.sub(r'A&#039;s', '', text)\n",
    "    text = re.sub(r'I&#039;', 'I\\'', text)\n",
    "    text = re.sub(r'&amp;', 'and', text)\n",
    "    \n",
    "    return text\n",
    "\n",
    "text_cleaningUDF = udf(lambda x:text_cleaning(x),StringType())   \n",
    "\n",
    "anime_fulldata = anime_fulldata.withColumn(\"anime_title\", text_cleaningUDF(col(\"anime_title\")))"
   ]
  },
  {
   "cell_type": "markdown",
   "metadata": {
    "id": "5HGk2-_-TqCO"
   },
   "source": [
    "Q3. Find the top 10 anime based on user rating. Use tabular/graphical presentation to provide evidence of your analysis."
   ]
  },
  {
   "cell_type": "code",
   "execution_count": 17,
   "metadata": {
    "colab": {
     "base_uri": "https://localhost:8080/"
    },
    "id": "wdDwAy74z6ky",
    "outputId": "aa1bc2b0-f2e1-42bf-db84-e804a1e67d48"
   },
   "outputs": [
    {
     "name": "stdout",
     "output_type": "stream",
     "text": [
      "+--------+--------------------+-----------------+------------------+\n",
      "|anime_id|         anime_title|      avg(rating)|count(user_rating)|\n",
      "+--------+--------------------+-----------------+------------------+\n",
      "|    1535|          Death Note|8.710000000001498|             34226|\n",
      "|   11757|    Sword Art Online|7.830000000001458|             26310|\n",
      "|   16498|  Shingeki no Kyojin|8.539999999997944|             25290|\n",
      "|    1575|Code Geass: Hangy...|8.830000000001466|             24126|\n",
      "|    6547|        Angel Beats!|8.389999999999478|             23565|\n",
      "|     226|          Elfen Lied|7.850000000000961|             23528|\n",
      "|      20|              Naruto|7.809999999998774|             22071|\n",
      "|    5114|Fullmetal Alchemi...| 9.25999999999865|             21494|\n",
      "|     121| Fullmetal Alchemist|8.330000000001412|             21332|\n",
      "|    2904|Code Geass: Hangy...|8.979999999999716|             21124|\n",
      "+--------+--------------------+-----------------+------------------+\n",
      "only showing top 10 rows\n",
      "\n"
     ]
    }
   ],
   "source": [
    "#dropping all the rows with any null value as it aids nothing\n",
    "anime_fulldata = anime_fulldata.dropna(how ='any') \n",
    "newdf = anime_fulldata.groupby('anime_id', 'anime_title').agg({'rating': 'avg', 'user_rating': 'count'}).orderBy(desc('count(user_rating)')).show(10)"
   ]
  },
  {
   "cell_type": "markdown",
   "metadata": {
    "id": "PlyOL4WwV8g8"
   },
   "source": [
    "Q4.\tFind the top 10 genre based on user rating. Use tabular/graphical presentation to provide evidence of your analysis."
   ]
  },
  {
   "cell_type": "code",
   "execution_count": 18,
   "metadata": {
    "colab": {
     "base_uri": "https://localhost:8080/"
    },
    "id": "w0aQ0K4andAt",
    "outputId": "763b0f61-8bbb-4d0d-8e68-8a61b3dcf6f8"
   },
   "outputs": [
    {
     "name": "stdout",
     "output_type": "stream",
     "text": [
      "+--------------------+-----------------+------------------+\n",
      "|               genre|      avg(rating)|count(user_rating)|\n",
      "+--------------------+-----------------+------------------+\n",
      "|Comedy, School, S...| 7.61611594784337|             49850|\n",
      "|              Hentai|6.647734707647943|             42979|\n",
      "|Comedy, Slice of ...|7.546397326004867|             42932|\n",
      "|Action, Adventure...|7.611947468055045|             42260|\n",
      "|Comedy, Romance, ...|8.034248223204006|             41648|\n",
      "|              Comedy|6.873754236443347|             40128|\n",
      "|Comedy, Seinen, S...|7.436532421412579|             38015|\n",
      "|Mystery, Police, ...|8.639758809626597|             37232|\n",
      "|Comedy, School, S...|7.828225356688424|             36937|\n",
      "|Action, Mecha, Sc...|7.819512518327197|             35468|\n",
      "+--------------------+-----------------+------------------+\n",
      "only showing top 10 rows\n",
      "\n"
     ]
    }
   ],
   "source": [
    "genredf = anime_fulldata.groupby('genre').agg({'rating': 'avg', 'user_rating': 'count'}).orderBy(desc('count(user_rating)')).show(10)"
   ]
  },
  {
   "cell_type": "markdown",
   "metadata": {
    "id": "iKFDs4r1vcXN"
   },
   "source": [
    "Q5. Design a collaborative filter-based recommendation system."
   ]
  },
  {
   "cell_type": "markdown",
   "metadata": {
    "id": "ckS6oz-X9ghK"
   },
   "source": [
    ">*There are users who has rated only once, even if they have rated it 5, it can’t be considered a valuable record for recommendation. So I have considered minimum 200 ratings by the user as threshold value.*"
   ]
  },
  {
   "cell_type": "code",
   "execution_count": 19,
   "metadata": {
    "id": "QPdYmdpMfzna"
   },
   "outputs": [],
   "source": [
    "count_df = anime_fulldata.groupBy(\"user_id\").count()\n",
    "join_df = anime_fulldata.join(count_df, [\"user_id\"], how = \"inner\")\n",
    "new_animedf = join_df.filter(join_df[\"count\"] >= 200)"
   ]
  },
  {
   "cell_type": "code",
   "execution_count": 20,
   "metadata": {
    "id": "Id7fGMF_w7iu"
   },
   "outputs": [],
   "source": [
    "anime_fulldata_reco = new_animedf.select(\"user_id\", \"anime_id\", \"user_rating\", \"anime_title\")"
   ]
  },
  {
   "cell_type": "code",
   "execution_count": 21,
   "metadata": {
    "id": "oFgGhKYN0FC2"
   },
   "outputs": [],
   "source": [
    "#Create test and train set\n",
    "(train, test) = anime_fulldata_reco.randomSplit([0.8, 0.2])"
   ]
  },
  {
   "cell_type": "code",
   "execution_count": 22,
   "metadata": {
    "id": "i_o-kvb80ZV4"
   },
   "outputs": [],
   "source": [
    "#Create ALS model\n",
    "als = ALS(maxIter = 5, regParam = 0.17, userCol = \"user_id\", itemCol = \"anime_id\", ratingCol = \"user_rating\", \n",
    "          coldStartStrategy = \"drop\", nonnegative = True)"
   ]
  },
  {
   "cell_type": "code",
   "execution_count": 23,
   "metadata": {
    "id": "AOLQmbmv3b4y"
   },
   "outputs": [],
   "source": [
    "#Fit ALS model to training data\n",
    "model = als.fit(train)\n",
    "\n",
    "#Generate predictions\n",
    "pred = model.transform(test)"
   ]
  },
  {
   "cell_type": "code",
   "execution_count": 24,
   "metadata": {
    "colab": {
     "base_uri": "https://localhost:8080/"
    },
    "id": "5gwgow5AgPtJ",
    "outputId": "73ed3163-e546-43b0-e857-ae69454d9b61"
   },
   "outputs": [
    {
     "name": "stdout",
     "output_type": "stream",
     "text": [
      "RMSE: 1.2402263470412234\n"
     ]
    }
   ],
   "source": [
    "#evaluating our model performance\n",
    "eval = RegressionEvaluator(metricName=\"rmse\", labelCol = \"user_rating\", predictionCol=\"prediction\")\n",
    "rmse = eval.evaluate(pred)\n",
    "print(f\"RMSE: {rmse}\")"
   ]
  },
  {
   "cell_type": "markdown",
   "metadata": {
    "id": "xQQghjN5hw8w"
   },
   "source": [
    "Q6. Give example of best three anime recommendations for minimum of 10 users."
   ]
  },
  {
   "cell_type": "markdown",
   "metadata": {
    "id": "BQ1qAC3Q5eXG"
   },
   "source": [
    ">*Example 1: Best three anime recommendations for user 5*"
   ]
  },
  {
   "cell_type": "code",
   "execution_count": 25,
   "metadata": {
    "colab": {
     "base_uri": "https://localhost:8080/"
    },
    "id": "anqwsk_9hfD4",
    "outputId": "45c3c87e-6f5f-425d-8068-4d64a0c2e3e3"
   },
   "outputs": [
    {
     "name": "stdout",
     "output_type": "stream",
     "text": [
      "+-------+--------+--------------------+----------+\n",
      "|user_id|anime_id|         anime_title|prediction|\n",
      "+-------+--------+--------------------+----------+\n",
      "|      5|   15335|Gintama Movie: Ka...| 6.1200695|\n",
      "|      5|     170|           Slam Dunk| 5.8652463|\n",
      "|      5|    1535|          Death Note|  5.606813|\n",
      "+-------+--------+--------------------+----------+\n",
      "only showing top 3 rows\n",
      "\n"
     ]
    }
   ],
   "source": [
    "user_5 = test.filter(test['user_id'] == 5).select(['user_id', 'anime_id', 'anime_title'])\n",
    "rec5 = model.transform(user_5)\n",
    "rec5.sort(desc(\"prediction\")).show(3)"
   ]
  },
  {
   "cell_type": "markdown",
   "metadata": {
    "id": "B2yaNM7J8n7w"
   },
   "source": [
    ">*Example 2: Best three anime recommendations for user 139*"
   ]
  },
  {
   "cell_type": "code",
   "execution_count": 26,
   "metadata": {
    "colab": {
     "base_uri": "https://localhost:8080/"
    },
    "id": "lNqG3Lrs28AZ",
    "outputId": "0d7d526a-7adf-4822-ebfa-941a31b79e1b"
   },
   "outputs": [
    {
     "name": "stdout",
     "output_type": "stream",
     "text": [
      "+-------+--------+--------------------+----------+\n",
      "|user_id|anime_id|         anime_title|prediction|\n",
      "+-------+--------+--------------------+----------+\n",
      "|    139|      19|             Monster|   8.39358|\n",
      "|    139|    7311|Suzumiya Haruhi n...|  7.792595|\n",
      "|    139|   11741|Fate/Zero 2nd Season| 7.6936994|\n",
      "+-------+--------+--------------------+----------+\n",
      "only showing top 3 rows\n",
      "\n"
     ]
    }
   ],
   "source": [
    "user_139 = test.filter(test['user_id'] == 139).select(['user_id', 'anime_id', 'anime_title'])\n",
    "rec139 = model.transform(user_139)\n",
    "rec139.sort(desc(\"prediction\")).show(3)"
   ]
  },
  {
   "cell_type": "markdown",
   "metadata": {
    "id": "VQhK6WOb9Mqo"
   },
   "source": [
    ">*Example 3: Best three anime recommendations for user 210*"
   ]
  },
  {
   "cell_type": "code",
   "execution_count": 27,
   "metadata": {
    "colab": {
     "base_uri": "https://localhost:8080/"
    },
    "id": "wr2f08fa8tJT",
    "outputId": "8d09e261-4a3a-46de-e0c1-3f3cb2d051d1"
   },
   "outputs": [
    {
     "name": "stdout",
     "output_type": "stream",
     "text": [
      "+-------+--------+--------------------+----------+\n",
      "|user_id|anime_id|         anime_title|prediction|\n",
      "+-------+--------+--------------------+----------+\n",
      "|    210|    2904|Code Geass: Hangy...|  9.383395|\n",
      "|    210|    5114|Fullmetal Alchemi...|  9.353313|\n",
      "|    210|    1575|Code Geass: Hangy...|   9.18853|\n",
      "+-------+--------+--------------------+----------+\n",
      "only showing top 3 rows\n",
      "\n"
     ]
    }
   ],
   "source": [
    "user_210 = test.filter(test['user_id'] == 210).select(['user_id', 'anime_id', 'anime_title'])\n",
    "rec210 = model.transform(user_210)\n",
    "rec210.sort(desc(\"prediction\")).show(3)"
   ]
  },
  {
   "cell_type": "markdown",
   "metadata": {
    "id": "ow9whWC1-gzK"
   },
   "source": [
    ">*Example 4: Best three recommendations for user 233*"
   ]
  },
  {
   "cell_type": "code",
   "execution_count": 28,
   "metadata": {
    "colab": {
     "base_uri": "https://localhost:8080/"
    },
    "id": "ghLVNmC6-UdE",
    "outputId": "28e1fc0d-0f5a-4d40-b4ba-9c9a27c3b84c"
   },
   "outputs": [
    {
     "name": "stdout",
     "output_type": "stream",
     "text": [
      "+-------+--------+--------------------+----------+\n",
      "|user_id|anime_id|         anime_title|prediction|\n",
      "+-------+--------+--------------------+----------+\n",
      "|    233|   11757|    Sword Art Online| 10.261229|\n",
      "|    233|   23273|Shigatsu wa Kimi ...| 10.235156|\n",
      "|    233|   12365| Bakuman. 3rd Season| 10.116904|\n",
      "+-------+--------+--------------------+----------+\n",
      "only showing top 3 rows\n",
      "\n"
     ]
    }
   ],
   "source": [
    "user_233 = test.filter(test['user_id'] == 233).select(['user_id', 'anime_id', 'anime_title'])\n",
    "rec233 = model.transform(user_233)\n",
    "rec233.sort(desc(\"prediction\")).show(3)"
   ]
  },
  {
   "cell_type": "markdown",
   "metadata": {
    "id": "J8OQDLj5AR05"
   },
   "source": [
    ">*Example 5: Best three recommendations for user 250*"
   ]
  },
  {
   "cell_type": "code",
   "execution_count": 29,
   "metadata": {
    "colab": {
     "base_uri": "https://localhost:8080/"
    },
    "id": "6ScMdip5-npM",
    "outputId": "55b05f0b-aa2e-4d42-aa28-3897ff624372"
   },
   "outputs": [
    {
     "name": "stdout",
     "output_type": "stream",
     "text": [
      "+-------+--------+--------------------+----------+\n",
      "|user_id|anime_id|         anime_title|prediction|\n",
      "+-------+--------+--------------------+----------+\n",
      "|    250|    4181|Clannad: After Story|  8.795191|\n",
      "|    250|   11741|Fate/Zero 2nd Season|  8.559677|\n",
      "|    250|   30276|       One Punch Man|  8.502831|\n",
      "+-------+--------+--------------------+----------+\n",
      "only showing top 3 rows\n",
      "\n"
     ]
    }
   ],
   "source": [
    "user_250 = test.filter(test['user_id'] == 250).select(['user_id', 'anime_id', 'anime_title'])\n",
    "rec250 = model.transform(user_250)\n",
    "rec250.sort(desc(\"prediction\")).show(3)"
   ]
  },
  {
   "cell_type": "markdown",
   "metadata": {
    "id": "OfliKgYEAwuI"
   },
   "source": [
    ">*Example 6: Best three recommendations for user 271*"
   ]
  },
  {
   "cell_type": "code",
   "execution_count": 30,
   "metadata": {
    "colab": {
     "base_uri": "https://localhost:8080/"
    },
    "id": "Yb_moBaK_rBh",
    "outputId": "a6cfadaf-3a00-4f8e-da63-e393a846402f"
   },
   "outputs": [
    {
     "name": "stdout",
     "output_type": "stream",
     "text": [
      "+-------+--------+--------------------+----------+\n",
      "|user_id|anime_id|         anime_title|prediction|\n",
      "+-------+--------+--------------------+----------+\n",
      "|    271|   30276|       One Punch Man|  8.351711|\n",
      "|    271|   23273|Shigatsu wa Kimi ...|  8.337369|\n",
      "|    271|   22297|Fate/stay night: ...|  8.207536|\n",
      "+-------+--------+--------------------+----------+\n",
      "only showing top 3 rows\n",
      "\n"
     ]
    }
   ],
   "source": [
    "user_271 = test.filter(test['user_id'] == 271).select(['user_id', 'anime_id', 'anime_title'])\n",
    "rec271 = model.transform(user_271)\n",
    "rec271.sort(desc(\"prediction\")).show(3)"
   ]
  },
  {
   "cell_type": "markdown",
   "metadata": {
    "id": "m7slwz7OBNBQ"
   },
   "source": [
    ">*Example 7: Best three recommendations for user 308*"
   ]
  },
  {
   "cell_type": "code",
   "execution_count": 31,
   "metadata": {
    "colab": {
     "base_uri": "https://localhost:8080/"
    },
    "id": "rlZJXAH8BULb",
    "outputId": "db82c702-047c-4852-c613-f492ee3ca5db"
   },
   "outputs": [
    {
     "name": "stdout",
     "output_type": "stream",
     "text": [
      "+-------+--------+--------------------+----------+\n",
      "|user_id|anime_id|         anime_title|prediction|\n",
      "+-------+--------+--------------------+----------+\n",
      "|    308|   21031|Precure All Stars...|  8.980688|\n",
      "|    308|   28999|           Charlotte|  8.555373|\n",
      "|    308|   17265|         Log Horizon| 8.3668585|\n",
      "+-------+--------+--------------------+----------+\n",
      "only showing top 3 rows\n",
      "\n"
     ]
    }
   ],
   "source": [
    "user_308 = test.filter(test['user_id'] == 308).select(['user_id', 'anime_id', 'anime_title'])\n",
    "rec308 = model.transform(user_308)\n",
    "rec308.sort(desc(\"prediction\")).show(3)"
   ]
  },
  {
   "cell_type": "markdown",
   "metadata": {
    "id": "6esLg_CRBwhE"
   },
   "source": [
    ">*Example 8: Best three recommendations for user 593*"
   ]
  },
  {
   "cell_type": "code",
   "execution_count": 32,
   "metadata": {
    "colab": {
     "base_uri": "https://localhost:8080/"
    },
    "id": "t40pOBDjBdjj",
    "outputId": "176dc3af-46aa-4ead-d31d-96c3c624b291"
   },
   "outputs": [
    {
     "name": "stdout",
     "output_type": "stream",
     "text": [
      "+-------+--------+--------------------+----------+\n",
      "|user_id|anime_id|         anime_title|prediction|\n",
      "+-------+--------+--------------------+----------+\n",
      "|    593|   30276|       One Punch Man|  8.840844|\n",
      "|    593|   22297|Fate/stay night: ...|  8.687056|\n",
      "|    593|   22535|Kiseijuu: Sei no ...|  8.600446|\n",
      "+-------+--------+--------------------+----------+\n",
      "only showing top 3 rows\n",
      "\n"
     ]
    }
   ],
   "source": [
    "user_593 = test.filter(test['user_id'] == 593).select(['user_id', 'anime_id', 'anime_title'])\n",
    "rec593 = model.transform(user_593)\n",
    "rec593.sort(desc(\"prediction\")).show(3)"
   ]
  },
  {
   "cell_type": "markdown",
   "metadata": {
    "id": "Ic5WzelNCKJq"
   },
   "source": [
    ">*Example 9: Best three recommendations for user 572*"
   ]
  },
  {
   "cell_type": "code",
   "execution_count": 33,
   "metadata": {
    "colab": {
     "base_uri": "https://localhost:8080/"
    },
    "id": "4QrN5NBTCQow",
    "outputId": "b48f845b-84f5-4656-eac9-9b7f179296f6"
   },
   "outputs": [
    {
     "name": "stdout",
     "output_type": "stream",
     "text": [
      "+-------+--------+--------------------+----------+\n",
      "|user_id|anime_id|         anime_title|prediction|\n",
      "+-------+--------+--------------------+----------+\n",
      "|    572|    9253|         Steins;Gate|  6.359953|\n",
      "|    572|    2251|            Baccano!| 6.2521405|\n",
      "|    572|   11741|Fate/Zero 2nd Season|  6.169533|\n",
      "+-------+--------+--------------------+----------+\n",
      "only showing top 3 rows\n",
      "\n"
     ]
    }
   ],
   "source": [
    "user_572 = test.filter(test['user_id'] == 572).select(['user_id', 'anime_id', 'anime_title'])\n",
    "rec572 = model.transform(user_572)\n",
    "rec572.sort(desc(\"prediction\")).show(3)"
   ]
  },
  {
   "cell_type": "markdown",
   "metadata": {
    "id": "veGqX5RPC7PX"
   },
   "source": [
    ">*Example 10: Best three recommendations for user 497*"
   ]
  },
  {
   "cell_type": "code",
   "execution_count": 34,
   "metadata": {
    "colab": {
     "base_uri": "https://localhost:8080/"
    },
    "id": "D_VKXEjBCpbr",
    "outputId": "c09eabce-de5a-4963-ee4d-a1ab339674c1"
   },
   "outputs": [
    {
     "name": "stdout",
     "output_type": "stream",
     "text": [
      "+-------+--------+--------------------+----------+\n",
      "|user_id|anime_id|         anime_title|prediction|\n",
      "+-------+--------+--------------------+----------+\n",
      "|    497|    5114|Fullmetal Alchemi...| 7.7820606|\n",
      "|    497|    6702|          Fairy Tail| 7.5191374|\n",
      "|    497|   16498|  Shingeki no Kyojin| 7.4918613|\n",
      "+-------+--------+--------------------+----------+\n",
      "only showing top 3 rows\n",
      "\n"
     ]
    }
   ],
   "source": [
    "user_497 = test.filter(test['user_id'] == 497).select(['user_id', 'anime_id', 'anime_title'])\n",
    "rec497 = model.transform(user_497)\n",
    "rec497.sort(desc(\"prediction\")).show(3)"
   ]
  }
 ],
 "metadata": {
  "colab": {
   "collapsed_sections": [],
   "name": "b00858757_onyedikachi_erete.ipynb",
   "provenance": []
  },
  "kernelspec": {
   "display_name": "Python 3",
   "language": "python",
   "name": "python3"
  },
  "language_info": {
   "codemirror_mode": {
    "name": "ipython",
    "version": 3
   },
   "file_extension": ".py",
   "mimetype": "text/x-python",
   "name": "python",
   "nbconvert_exporter": "python",
   "pygments_lexer": "ipython3",
   "version": "3.8.5"
  }
 },
 "nbformat": 4,
 "nbformat_minor": 1
}
